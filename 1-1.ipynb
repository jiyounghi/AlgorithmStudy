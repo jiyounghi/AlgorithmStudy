{
 "cells": [
  {
   "cell_type": "markdown",
   "metadata": {},
   "source": [
    "큐"
   ]
  },
  {
   "cell_type": "code",
   "execution_count": 5,
   "metadata": {},
   "outputs": [
    {
     "name": "stdout",
     "output_type": "stream",
     "text": [
      "[1, 2, 3]\n",
      "1\n",
      "[2, 3]\n",
      "2\n",
      "2\n"
     ]
    }
   ],
   "source": [
    "# 큐 \n",
    "li = []\n",
    "\n",
    "# 데이터 삽입 (Enqueue)\n",
    "li.append(1)\n",
    "li.append(2)\n",
    "li.append(3)\n",
    "\n",
    "print(li)\n",
    "\n",
    "# 데이터 삭제 (Dequeue)\n",
    "print(li.pop(0))\n",
    "print(li)\n",
    "\n",
    "# 큐의 다음 요소 미리 확인 \n",
    "print(li[0])\n",
    "\n",
    "# 큐가 비었는지 확인 \n",
    "print(len(li))\n"
   ]
  },
  {
   "cell_type": "code",
   "execution_count": 11,
   "metadata": {},
   "outputs": [
    {
     "name": "stdout",
     "output_type": "stream",
     "text": [
      "deque([3, 1, 2])\n",
      "제거된 요소 :  3\n",
      "큐 상태 deque([1, 2])\n",
      "deque([5, 1, 2, 4])\n",
      "오른쪽 끝에서 제거된 요소 :  4\n",
      "deque([5, 1, 2])\n"
     ]
    }
   ],
   "source": [
    "from collections import deque \n",
    "\n",
    "# 큐 생성\n",
    "queue = deque()\n",
    "\n",
    "# 데이터 삽입 (Enqueue)\n",
    "queue.append(1)\n",
    "queue.append(2) # 오른쪽 끝에 2 추가\n",
    "queue.appendleft(3) # 왼쪽 끝에 3 추가 \n",
    "\n",
    "print(queue)\n",
    "\n",
    "# 데이터 삭제 Dequeue\n",
    "first_item = queue.popleft()\n",
    "print(\"제거된 요소 : \", first_item)\n",
    "print(\"큐 상태\", queue)\n",
    "\n",
    "# 오른쪽 끝에 추가 (append) 및 왼쪽 끝에 추가 (appendleft)\n",
    "queue.append(4)\n",
    "queue.appendleft(5)\n",
    "print(queue)\n",
    "\n",
    "# 큐의 끝에서 데이터 삭제 \n",
    "last_item = queue.pop()\n",
    "print(\"오른쪽 끝에서 제거된 요소 : \", last_item)\n",
    "\n",
    "print(queue)"
   ]
  },
  {
   "cell_type": "code",
   "execution_count": 14,
   "metadata": {},
   "outputs": [
    {
     "name": "stdout",
     "output_type": "stream",
     "text": [
      "3\n",
      "1\n",
      "False\n",
      "False\n"
     ]
    }
   ],
   "source": [
    "import queue \n",
    "\n",
    "# 큐 생성\n",
    "q = queue.Queue()\n",
    "\n",
    "# 데이터 삽입 Enqueue\n",
    "q.put(1) # 큐에 1 추가 \n",
    "q.put(2)\n",
    "q.put(3)\n",
    "\n",
    "# 큐 크기 확인 \n",
    "print(q.qsize())\n",
    "\n",
    "# 데이터 삭제 Dequeue\n",
    "print(q.get()) # 데이터 제거하고 반환\n",
    "\n",
    "# 큐가 비었는지 확인 \n",
    "print(q.empty())\n",
    "\n",
    "# 큐가 가득 찼는지 확인 \n",
    "print(q.full())"
   ]
  },
  {
   "cell_type": "markdown",
   "metadata": {},
   "source": [
    "스택"
   ]
  },
  {
   "cell_type": "code",
   "execution_count": null,
   "metadata": {},
   "outputs": [],
   "source": [
    "class Stack:\n",
    "    # 리스트를 이용한 스택 구현 \n",
    "    def __init__(self):\n",
    "        self.top = []\n",
    "        \n",
    "    # 스택 크기 반환\n",
    "    def __len__(self) -> bool :\n",
    "        return len(self.top)\n",
    "    \n",
    "    # 구현함수 \n",
    "    \n",
    "    # 스택에 원소 삽입\n",
    "    def push(self, item):\n",
    "        self.top.append(item)\n",
    "    # 스택 가장 위에 있는 원소를 삭제하고 반환\n",
    "    def pop(self):\n",
    "        if not self.isEmpty():\n",
    "            return self.top.pop(-1)\n",
    "        else:\n",
    "            print(\"Stack underflow\")\n",
    "            exit()\n",
    "    # 스택 가장 위에 있는 원소를 반환 \n",
    "    def peek(self):\n",
    "        if not self.isEmpty():\n",
    "            return self.top[-1]\n",
    "        else:\n",
    "            print(\"underflow\")\n",
    "            exit()\n",
    "    # 스택이 비어있는 지를 bool값으로 반환 \n",
    "    def isEmpty(self) -> bool : \n",
    "        return len(self.top) == 0"
   ]
  }
 ],
 "metadata": {
  "kernelspec": {
   "display_name": "Python 3",
   "language": "python",
   "name": "python3"
  },
  "language_info": {
   "codemirror_mode": {
    "name": "ipython",
    "version": 3
   },
   "file_extension": ".py",
   "mimetype": "text/x-python",
   "name": "python",
   "nbconvert_exporter": "python",
   "pygments_lexer": "ipython3",
   "version": "3.11.8"
  }
 },
 "nbformat": 4,
 "nbformat_minor": 2
}
